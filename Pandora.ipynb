{
 "cells": [
  {
   "cell_type": "markdown",
   "metadata": {},
   "source": [
    "<p><a name=\"sections\"></a></p>\n",
    "\n",
    "\n",
    "# Pandora \n",
    "## Data Engineer Coding Challenge\n",
    "### Lainey(Nan) Liu  \n",
    "\n",
    "Getting the information as required is not difficult using jupyter notebook, however, if we are trying to get more comprehensive information, then we need something more user interactive.\n",
    "\n",
    "Therefore, I try to use command line to have a simple user interactive for information retrieving.\n",
    "This jupyter notebook contains some demostration code to better explain the code.\n",
    "\n",
    "#### Steps \n",
    "\n",
    "\n",
    "\n",
    "- <a href=\"#q1\">A) Download </a>\n",
    "- <a href=\"#q2\">B) Clean the data </a>\n",
    "- <a href=\"#q3\">C) Ingestion</a>\n",
    "- <a href=\"#q4\">D) Analysis </a>\n",
    "- <a href=\"#q5\">E) Favorite tools or techniques </a>"
   ]
  },
  {
   "cell_type": "code",
   "execution_count": 1,
   "metadata": {},
   "outputs": [],
   "source": [
    "import pandas as pd\n",
    "import datetime\n",
    "import os\n",
    "from inputdata import clean_before_ingest\n",
    "import sqlite3\n",
    "from IPython.display import IFrame\n"
   ]
  },
  {
   "cell_type": "markdown",
   "metadata": {},
   "source": [
    "### Basic logic\n",
    "- check if the data is ingested\n",
    "    - yes? great! we don't need to do much before analysis.\n",
    "    - no? \n",
    "    - check if the data is downloaded\n",
    "        - yes? ingest the data and move the data to history folder\n",
    "        - no? download and move the data to waiting folder to be ingested later\n"
   ]
  },
  {
   "cell_type": "markdown",
   "metadata": {},
   "source": [
    "- as you can tell from below, the user input year: 2012, month: 1, day: 1, hour: 1 \n",
    "- since I already ingest the data, the file should be ready to be analyzed \n",
    "- with typing ?, you can see the command you are ablet to access"
   ]
  },
  {
   "cell_type": "markdown",
   "metadata": {},
   "source": [
    "![title](img/menu.png)"
   ]
  },
  {
   "cell_type": "markdown",
   "metadata": {},
   "source": [
    "<p><a name=\"q1\"></a></p>\n",
    "\n",
    "### A) Download\n",
    "\n",
    "- if we take a closer look at the downloading link, each file link has similar pattern. So we can input the year, month, day, and hour to locate the link. (I also found some wikimedia API that worth exploring to minimize dowaloading/ingesting time)\n",
    "    - https://github.com/mediawiki-utilities/python-mwviews\n",
    "        https://github.com/Commonists/pageview-api\n",
    "- detailed downloading function is in wikimedia.py function: download_wikimedia\n"
   ]
  },
  {
   "cell_type": "markdown",
   "metadata": {},
   "source": [
    "<p><a name=\"q2\"></a></p>\n",
    "\n",
    "### B) Clean the data"
   ]
  },
  {
   "cell_type": "code",
   "execution_count": 4,
   "metadata": {},
   "outputs": [],
   "source": [
    "# since the data is already ingested, we will find it in history folder\n",
    "df = pd.read_csv(\n",
    "    './history/pagecounts-20120101-000000.txt',\n",
    "    sep=' ', encoding='latin-1', header = None)\n",
    "df.columns = ['language', 'page_name', 'non_unique_views', 'bytes_transferred']"
   ]
  },
  {
   "cell_type": "markdown",
   "metadata": {},
   "source": [
    "- detailed cleaning in inputdata.py\n",
    "    - get rid of the .type in language, if we want to consider type in the future, then we should create a column just for type\n",
    "    - to make the data more detailed, adding a column of timestamp, indicating the time for data\n",
    "    - the page name we don't care normally has \":\" in the page_name, however, if this rule does not work for some special cases, then we need to figure out another way to clean out the page_name we don't care. \n",
    "    - eventually we narrow down to 3 columns, which is going to be our scheme when it comes to ingestion.\n",
    "    - WIP: find the duplicates in the page_name by using dedupe method, I've done a similar task where I wrote a python scrapy to get more information about the page to identify the duplication, which can be accurate, but time consuming. I would recommand using dedupe first. "
   ]
  },
  {
   "cell_type": "code",
   "execution_count": 5,
   "metadata": {},
   "outputs": [
    {
     "data": {
      "text/html": [
       "<div>\n",
       "<style scoped>\n",
       "    .dataframe tbody tr th:only-of-type {\n",
       "        vertical-align: middle;\n",
       "    }\n",
       "\n",
       "    .dataframe tbody tr th {\n",
       "        vertical-align: top;\n",
       "    }\n",
       "\n",
       "    .dataframe thead th {\n",
       "        text-align: right;\n",
       "    }\n",
       "</style>\n",
       "<table border=\"1\" class=\"dataframe\">\n",
       "  <thead>\n",
       "    <tr style=\"text-align: right;\">\n",
       "      <th></th>\n",
       "      <th>language</th>\n",
       "      <th>page_name</th>\n",
       "      <th>non_unique_views</th>\n",
       "      <th>timestamp</th>\n",
       "    </tr>\n",
       "  </thead>\n",
       "  <tbody>\n",
       "    <tr>\n",
       "      <th>0</th>\n",
       "      <td>aa</td>\n",
       "      <td>Main_Page</td>\n",
       "      <td>1</td>\n",
       "      <td>2012/01/01 00</td>\n",
       "    </tr>\n",
       "    <tr>\n",
       "      <th>1</th>\n",
       "      <td>aa</td>\n",
       "      <td>%D0%92%D0%B0%D1%81%D1%96%D0%BB%D1%8C_%D0%91%D1...</td>\n",
       "      <td>1</td>\n",
       "      <td>2012/01/01 00</td>\n",
       "    </tr>\n",
       "    <tr>\n",
       "      <th>2</th>\n",
       "      <td>aa</td>\n",
       "      <td>Meta.wikimedia.org/wiki/Proposals_for_closing_...</td>\n",
       "      <td>1</td>\n",
       "      <td>2012/01/01 00</td>\n",
       "    </tr>\n",
       "    <tr>\n",
       "      <th>3</th>\n",
       "      <td>aa</td>\n",
       "      <td>meta.wikimedia.org/wiki/Proposals_for_closing_...</td>\n",
       "      <td>1</td>\n",
       "      <td>2012/01/01 00</td>\n",
       "    </tr>\n",
       "    <tr>\n",
       "      <th>4</th>\n",
       "      <td>ab</td>\n",
       "      <td>%D0%97%D0%B0%D0%B3%D0%BB%D0%B0%D0%B2%D0%BD%D0%...</td>\n",
       "      <td>1</td>\n",
       "      <td>2012/01/01 00</td>\n",
       "    </tr>\n",
       "    <tr>\n",
       "      <th>5</th>\n",
       "      <td>ab</td>\n",
       "      <td>%D0%B7%D0%B0%D0%B3%D0%BB%D0%B0%D0%B2%D0%BD%D0%...</td>\n",
       "      <td>1</td>\n",
       "      <td>2012/01/01 00</td>\n",
       "    </tr>\n",
       "    <tr>\n",
       "      <th>6</th>\n",
       "      <td>ab</td>\n",
       "      <td>windshield</td>\n",
       "      <td>1</td>\n",
       "      <td>2012/01/01 00</td>\n",
       "    </tr>\n",
       "    <tr>\n",
       "      <th>7</th>\n",
       "      <td>ab</td>\n",
       "      <td>ab</td>\n",
       "      <td>9</td>\n",
       "      <td>2012/01/01 00</td>\n",
       "    </tr>\n",
       "    <tr>\n",
       "      <th>8</th>\n",
       "      <td>ab</td>\n",
       "      <td>Help%3AContents</td>\n",
       "      <td>1</td>\n",
       "      <td>2012/01/01 00</td>\n",
       "    </tr>\n",
       "    <tr>\n",
       "      <th>9</th>\n",
       "      <td>ab</td>\n",
       "      <td>Help%3AFAQ</td>\n",
       "      <td>1</td>\n",
       "      <td>2012/01/01 00</td>\n",
       "    </tr>\n",
       "  </tbody>\n",
       "</table>\n",
       "</div>"
      ],
      "text/plain": [
       "  language                                          page_name  \\\n",
       "0       aa                                          Main_Page   \n",
       "1       aa  %D0%92%D0%B0%D1%81%D1%96%D0%BB%D1%8C_%D0%91%D1...   \n",
       "2       aa  Meta.wikimedia.org/wiki/Proposals_for_closing_...   \n",
       "3       aa  meta.wikimedia.org/wiki/Proposals_for_closing_...   \n",
       "4       ab  %D0%97%D0%B0%D0%B3%D0%BB%D0%B0%D0%B2%D0%BD%D0%...   \n",
       "5       ab  %D0%B7%D0%B0%D0%B3%D0%BB%D0%B0%D0%B2%D0%BD%D0%...   \n",
       "6       ab                                         windshield   \n",
       "7       ab                                                 ab   \n",
       "8       ab                                    Help%3AContents   \n",
       "9       ab                                         Help%3AFAQ   \n",
       "\n",
       "   non_unique_views      timestamp  \n",
       "0                 1  2012/01/01 00  \n",
       "1                 1  2012/01/01 00  \n",
       "2                 1  2012/01/01 00  \n",
       "3                 1  2012/01/01 00  \n",
       "4                 1  2012/01/01 00  \n",
       "5                 1  2012/01/01 00  \n",
       "6                 1  2012/01/01 00  \n",
       "7                 9  2012/01/01 00  \n",
       "8                 1  2012/01/01 00  \n",
       "9                 1  2012/01/01 00  "
      ]
     },
     "execution_count": 5,
     "metadata": {},
     "output_type": "execute_result"
    }
   ],
   "source": [
    "newDate = datetime.datetime(2012, 1, 1, 0)\n",
    "cleaned_df = clean_before_ingest(df, newDate)\n",
    "cleaned_df.head(10)"
   ]
  },
  {
   "cell_type": "markdown",
   "metadata": {},
   "source": [
    "<p><a name=\"q3\"></a></p>\n",
    "\n",
    "### C) Ingestion\n",
    "\n",
    "- giving the ingest command, we can ingest the new data into the table(WIP: check if the rows are in the table already before ingestion)\n",
    "- I used sqlite3 package for the interacting with database\n",
    "- table name : wikimedia\n",
    "- schema for the table [id, language, page_name, non_unique_views, timestamp, last_update]"
   ]
  },
  {
   "cell_type": "markdown",
   "metadata": {},
   "source": [
    "![title](img/ingest.png)"
   ]
  },
  {
   "cell_type": "markdown",
   "metadata": {},
   "source": [
    "<p><a name=\"q4\"></a></p>\n",
    "\n",
    "### D) Analysis\n",
    "- if you type in 'get_specific_analysis command' followed by the language name, in this example 'zu'\n",
    "- you can change the top # in the const.py to get, for example, top 3."
   ]
  },
  {
   "cell_type": "markdown",
   "metadata": {},
   "source": [
    "![title](img/language.png)"
   ]
  },
  {
   "cell_type": "code",
   "execution_count": null,
   "metadata": {},
   "outputs": [],
   "source": []
  }
 ],
 "metadata": {
  "kernelspec": {
   "display_name": "Python 3",
   "language": "python",
   "name": "python3"
  },
  "language_info": {
   "codemirror_mode": {
    "name": "ipython",
    "version": 3
   },
   "file_extension": ".py",
   "mimetype": "text/x-python",
   "name": "python",
   "nbconvert_exporter": "python",
   "pygments_lexer": "ipython3",
   "version": "3.7.0"
  }
 },
 "nbformat": 4,
 "nbformat_minor": 2
}
